{
 "cells": [
  {
   "cell_type": "code",
   "execution_count": null,
   "id": "9e6079d2-7fb9-44cf-a592-0abaa2107943",
   "metadata": {},
   "outputs": [],
   "source": [
    "import requests\n",
    "import os\n",
    "import json\n",
    "import base64\n",
    "from PIL import Image\n",
    "import numpy as np\n",
    "import matplotlib.pyplot as plt\n",
    "import tensorflow as tf\n",
    "\"\"\"\n",
    "Image Classification Tutorial : MNIST 손글씨\n",
    "\"\"\"\n",
    "# 모델 서버 예측 REST API\n",
    "URL = \"http://mnist-model-server.demo.svc.cluster.local/v1/models/mnist-model-server:predict\"\n",
    "\n",
    "# 테스트 이미지\n",
    "mnist_nums = [1,3,9]\n",
    "\n",
    "# 여러 개의 이미지를 입력 받아서 하나씩 처리함\n",
    "for mnist_num in mnist_nums:\n",
    "    # Image Input Path\n",
    "    image_path = os.getcwd() + \"/test_data/\" + str(mnist_num) + \".png\"\n",
    "    \n",
    "    # Image Preprocessing\n",
    "    img = Image.open(image_path).convert(\"L\")\n",
    "    img = np.array(img)\n",
    "    img = img.reshape([-1, 784])\n",
    "\n",
    "    # Input Image 시각화\n",
    "    print(\"\\n######### 입력 데이터 #########\")\n",
    "    visual_img = Image.open(image_path).convert(\"RGB\")\n",
    "    plt.imshow(visual_img)\n",
    "    plt.show()\n",
    "    \n",
    "    # KServe Format에 맞춘 POST Body 설정\n",
    "    data = json.dumps({\"instances\" : img.tolist()})\n",
    "    # Prediction 수행\n",
    "    prediction = requests.post(URL, data)\n",
    "    \n",
    "    # Output 출력\n",
    "    result_list = str(prediction.json()[\"predictions\"][0])[1:-1].split(',')\n",
    "    print(f\"\\n######### 예측 및 분류 결과 : [{result_list.index(' 1.0')}]\")\n",
    "    print(\"--------------------------------------\")"
   ]
  }
 ],
 "metadata": {
  "kernelspec": {
   "display_name": "Python 3",
   "language": "python",
   "name": "python3"
  },
  "language_info": {
   "codemirror_mode": {
    "name": "ipython",
    "version": 3
   },
   "file_extension": ".py",
   "mimetype": "text/x-python",
   "name": "python",
   "nbconvert_exporter": "python",
   "pygments_lexer": "ipython3",
   "version": "3.8.10"
  }
 },
 "nbformat": 4,
 "nbformat_minor": 5
}
